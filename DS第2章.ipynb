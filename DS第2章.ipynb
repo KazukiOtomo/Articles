{
  "nbformat": 4,
  "nbformat_minor": 0,
  "metadata": {
    "colab": {
      "name": "DS第2章.ipynb",
      "provenance": [],
      "toc_visible": true,
      "include_colab_link": true
    },
    "kernelspec": {
      "name": "ir",
      "display_name": "R"
    },
    "language_info": {
      "name": "python"
    }
  },
  "cells": [
    {
      "cell_type": "markdown",
      "metadata": {
        "id": "view-in-github",
        "colab_type": "text"
      },
      "source": [
        "<a href=\"https://colab.research.google.com/github/KazukiOtomo/Articles/blob/main/DS%E7%AC%AC2%E7%AB%A0.ipynb\" target=\"_parent\"><img src=\"https://colab.research.google.com/assets/colab-badge.svg\" alt=\"Open In Colab\"/></a>"
      ]
    },
    {
      "cell_type": "markdown",
      "metadata": {
        "id": "05nd5saiSwkX"
      },
      "source": [
        "# 第2章　記述統計"
      ]
    },
    {
      "cell_type": "markdown",
      "metadata": {
        "id": "EWrBHvJ7QA3V"
      },
      "source": [
        "##２－１　記述統計とは\n",
        "\n",
        "**ポイント**<br>\n",
        "\n",
        "・記述統計とは、平均値とか分散を算出・グラフ化したりすることで、データを把握する手法のことである。\n",
        "\n",
        "<details><summary>**詳細はこちら**</summary>\n",
        "<div>\n",
        "\n",
        " 　**記述統計**　=　データの概要を把握するための*手法*(数値への要約・グラフによる可視化...) \n",
        "\n",
        "　**記述統計量**　=　記述統計量で求められた値(平均値、分散...)\n",
        "  \n",
        "  ``※データの内容を把握する「記述統計」に対して、データの性質を推測する「推測統計」という手法もある。``(詳細は4，5章)\n",
        "</div>\n",
        "</details>"
      ]
    },
    {
      "cell_type": "markdown",
      "metadata": {
        "id": "fWE4VTY_OQRl"
      },
      "source": [
        "##２－２　分析データ\n",
        "\n",
        "**ポイント**\n",
        "\n",
        "![スクリーンショット 2021-06-20 145527.jpg](data:image/jpeg;base64,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)\n",
        "\n",
        "・csvファイルを読み込む際には、変数名があるかどうかで「header=TRUE or FALSE」を指定する。\n",
        "\n",
        "・headで冒頭だけ表示できる。全体を表示させたければ、print()や、データフレームの変数名を書いてやればよい。\n",
        "\n",
        "**サンプルコード**"
      ]
    },
    {
      "cell_type": "code",
      "metadata": {
        "id": "JOgFiYcDt_Ij"
      },
      "source": [
        "#あらかじめ、Slackで配布されたcsvデータをcolabに配置しよう！\n",
        "\n",
        "sample <- read.csv(\"data_ch2.csv\",header = TRUE)\n",
        "head(sample)"
      ],
      "execution_count": null,
      "outputs": []
    },
    {
      "cell_type": "markdown",
      "metadata": {
        "id": "wEYFd27INhY9"
      },
      "source": [
        "<details><summary> **詳細はこちら** </summary>\n",
        "<div>\n",
        "\n",
        "”header”というのは，変数名を書いた\"data_ch2.csv\"の1行目のことです．<br>\n",
        "1行目に変数名が書いてあるファイルを読み込む際には，”header=TRUE”と指定する必要があります．<br>もし，1行目に変数名がなく，**いきなりデータが書かれているようなファイルを読み込む場合は，<br>”header=FALSE”と指定します**．\n",
        "</div>\n",
        "</details>"
      ]
    },
    {
      "cell_type": "markdown",
      "metadata": {
        "id": "AVn0rvXhQU2s"
      },
      "source": [
        "##２－３　平均値・中央値・最頻値\n",
        "\n",
        "**ポイント**\n",
        "\n",
        "・平均：mean(DATA)\n",
        "\n",
        "　→外れ値の影響を受けやすいので、データの特徴を捉えるのは難しい。\n",
        "\n",
        "・中央値：median(DATA)\n",
        "\n",
        "　→全体のデータの「中心」が求められるが、これもデータ全体の特徴を捉えているとは言えない。\n",
        "\n",
        "・最頻値：which.max(table(DATA))\n",
        "\n",
        "　→最も多くあらわれるデータのこと。\n"
      ]
    },
    {
      "cell_type": "markdown",
      "metadata": {
        "id": "sKWOE-PsZk1z"
      },
      "source": [
        "**平均値サンプルコード**"
      ]
    },
    {
      "cell_type": "code",
      "metadata": {
        "id": "9NzcBWCIV_JG"
      },
      "source": [
        "#1回読み込めば十分なので、本当はセルを分けるべき\n",
        "dat <- read.csv(\"data_ch2.csv\",header = TRUE)\n",
        "#-----------------------------------------------\n",
        "\n",
        "# result = sum(dat$score) / nrow(dat)\n",
        "mean(dat$score)\n",
        "#62.05と出力されるはず"
      ],
      "execution_count": null,
      "outputs": []
    },
    {
      "cell_type": "markdown",
      "metadata": {
        "id": "2MN_IbE1ZrwJ"
      },
      "source": [
        "**中央値サンプルコード**"
      ]
    },
    {
      "cell_type": "code",
      "metadata": {
        "id": "evkPKcldZwxi"
      },
      "source": [
        "median(dat$score)\n",
        "#62.5と出力されるはず"
      ],
      "execution_count": null,
      "outputs": []
    },
    {
      "cell_type": "markdown",
      "metadata": {
        "id": "nk8KGjmseJMB"
      },
      "source": [
        "<details><summary> **詳細はこちら** </summary>\n",
        "<div>\n",
        "\n",
        "・１,２,３,４,５の中央値\n",
        "\n",
        "＝＞３\n",
        "\n",
        "・１,２,３,４の中央値\n",
        "\n",
        "＝＞(2 + 3) / 2 = 2.5\n",
        "\n",
        "</div>\n",
        "</details>\n",
        "\n"
      ]
    },
    {
      "cell_type": "markdown",
      "metadata": {
        "id": "NNNXv3MbaUr6"
      },
      "source": [
        "**最頻値サンプルコード**"
      ]
    },
    {
      "cell_type": "code",
      "metadata": {
        "id": "8Trtb0xFaX4S"
      },
      "source": [
        "names(which.max(table(dat$score)))\n",
        "# '63' と出力されるはず"
      ],
      "execution_count": null,
      "outputs": []
    },
    {
      "cell_type": "markdown",
      "metadata": {
        "id": "a-rZvT3bfohi"
      },
      "source": [
        "<details><summary> **詳細はこちら** </summary>\n",
        "<div>\n",
        "\n",
        "Rには、最頻値を求める組み込み関数が存在しないので、組み合わせて実現する。\n",
        "\n",
        "**table関数**：個々の点数を取った学習者を集計する。\n",
        "\n",
        "  (例、10点：2人、15点：3人......)\n",
        "\n",
        "**which.max関数**:最も多くあらわれる点数を特定する。\n",
        "\n",
        "**names関数**：今回のnames属性「点数」の情報のみ取り出している。\n",
        "\n",
        "</div>\n",
        "</details>"
      ]
    },
    {
      "cell_type": "markdown",
      "metadata": {
        "id": "0hBfGgtSb8DV"
      },
      "source": [
        "**追記事項**\n",
        "\n",
        "<details><summary> **文字列->数値の変換** </summary>\n",
        "<div>\n",
        "\n",
        "・names関数からの返り値は文字列として認識されている。<br>よって、求めた最頻値を別の計算に使う場合は、<br>as.numeric関数を用いて「文字列」から「数値」に変換する必要がある。\n",
        "```r\n",
        "name = names(which.max(table(dat$score)))\n",
        "as.numeric(names)\n",
        "```\n",
        "\n",
        "</div>\n",
        "</details>\n",
        "\n",
        "<br>\n",
        "\n",
        "<details><summary> **度数分布表の表示** </summary>\n",
        "<div>\n",
        "\n",
        "・以下のコードを実行すると、度数分布表を得ることができる。\n",
        "```r\n",
        "table(dat$score)\n",
        "```\n",
        "\n",
        "</div>\n",
        "</details>\n",
        "\n"
      ]
    },
    {
      "cell_type": "markdown",
      "metadata": {
        "id": "Hr1O83rdkJDS"
      },
      "source": [
        "##２－４　最小値・最大値・範囲"
      ]
    },
    {
      "cell_type": "markdown",
      "metadata": {
        "id": "we77Dj2Wl5Nx"
      },
      "source": [
        "**ポイント**\n",
        "\n",
        "<br>\n",
        "\n",
        "**min関数**:最小値のデータを求める\n",
        "\n",
        "**max関数**:最大値のデータを求める\n",
        "\n",
        "**range関数**:最小・最大値を同時に求める\n",
        "\n",
        "**範囲**：(最大値)ー(最小値)\n"
      ]
    },
    {
      "cell_type": "markdown",
      "metadata": {
        "id": "sV6lWne1mNL7"
      },
      "source": [
        "**サンプルコード**"
      ]
    },
    {
      "cell_type": "code",
      "metadata": {
        "id": "SMpHRB9Ik8G1"
      },
      "source": [
        "#100名の試験結果の最低点　出力：21\n",
        "min(dat$score)\n",
        "\n",
        "#100名の試験結果の最高点　出力：96\n",
        "max(dat$score)\n",
        "\n",
        "#最高点と最低点を同時に算出　出力：21・96\n",
        "range(dat$score)\n",
        "\n",
        "#試験結果の範囲　出力：76\n",
        "max(dat$score) - min(dat$score)"
      ],
      "execution_count": null,
      "outputs": []
    },
    {
      "cell_type": "markdown",
      "metadata": {
        "id": "E1yCn6pykjTx"
      },
      "source": [
        "##２－５　分散・標準偏差"
      ]
    },
    {
      "cell_type": "markdown",
      "metadata": {
        "id": "nAyPjILdmbbd"
      },
      "source": [
        "**ポイント**\n",
        "\n",
        "・分散(**不偏分散**)を求めるには、**var関数**を用いる。\n",
        "\n",
        "・割る数がn-1である理由は、**標本分散を標本数で割ってしまうと、元の母集団の分散よりも小さくなりやすくなってしまう**という理由からだそう。詳しい解説は[こちら (高校数学の美しい物語)](https://manabitimes.jp/math/1035) \n",
        "\n",
        "・標準偏差(**不偏標本標準偏差**)を求めるには、**sd関数**を用いる。\n",
        "\n",
        "・ここで求められる分散・標準偏差は、あくまで標本内のものであり、**母集団の代表値を推定する値である**ということに注意しなければいけない。\n"
      ]
    },
    {
      "cell_type": "markdown",
      "metadata": {
        "id": "Ma2wetmxsUdQ"
      },
      "source": [
        "**サンプルコード**"
      ]
    },
    {
      "cell_type": "code",
      "metadata": {
        "id": "ZXQU3FdEriDZ"
      },
      "source": [
        "#100名の試験結果の分散 出力：283.320707070707\n",
        "var(dat$score)\n",
        "\n",
        "#100名の試験結果の標準偏差 出力：16.8321337105374\n",
        "sd(dat$score)"
      ],
      "execution_count": null,
      "outputs": []
    },
    {
      "cell_type": "markdown",
      "metadata": {
        "id": "sGC8PlwCskm3"
      },
      "source": [
        "##２－６　5数要約・要約統計量"
      ]
    },
    {
      "cell_type": "markdown",
      "metadata": {
        "id": "hL5_5o9issEJ"
      },
      "source": [
        "**ポイント**\n",
        "\n",
        "・5数要約とは、最大値・最小値・第1～第3四分位数の5つを指している。\n",
        "\n",
        "・5数要約を求めるには、**quantile関数**を用いる。\n",
        "\n",
        "・**summary関数**を使うと、5数要約と平均値を同時に求めることができる。\n",
        "\n",
        "・**describe関数**を用いると、様々なパラメータを取得することができる。"
      ]
    },
    {
      "cell_type": "markdown",
      "metadata": {
        "id": "PndF2zbNtxXo"
      },
      "source": [
        "**サンプルコード**"
      ]
    },
    {
      "cell_type": "code",
      "metadata": {
        "id": "d0I8mB7TtwrE"
      },
      "source": [
        "#100名の試験結果の5数要約\n",
        "quantile(dat$score)"
      ],
      "execution_count": null,
      "outputs": []
    },
    {
      "cell_type": "code",
      "metadata": {
        "id": "oocJdu3Suh7w"
      },
      "source": [
        "#5数要約と平均値を同時に算出する。\n",
        "summary(dat$score)"
      ],
      "execution_count": null,
      "outputs": []
    },
    {
      "cell_type": "code",
      "metadata": {
        "id": "v7-0nbumvYtP"
      },
      "source": [
        "#パッケージのインストール\n",
        "install.packages(\"psych\",dependensies=TRUE)\n",
        "#パッケージの読み込み\n",
        "library(\"psych\")\n",
        "\n",
        "#様々なパラメータを取得することができる\n",
        "describe(dat$score)"
      ],
      "execution_count": null,
      "outputs": []
    },
    {
      "cell_type": "markdown",
      "metadata": {
        "id": "hbTBFMZPwJxq"
      },
      "source": [
        "##２－７　標準得点・偏差値"
      ]
    },
    {
      "cell_type": "markdown",
      "metadata": {
        "id": "x19fMST8wOWo"
      },
      "source": [
        "**ポイント**\n",
        "\n",
        "・標準得点＝{(個々のデータ)ー(平均値)} / 標準偏差\n",
        "\n",
        "・scale関数を用いると、標準得点が求められる。\n",
        "\n",
        "・よく用いられる偏差値は、標準得点を10倍して50を足した値を使っている。\n",
        "\n",
        "＝＞平均点の偏差値は50"
      ]
    },
    {
      "cell_type": "code",
      "metadata": {
        "id": "P8SpTKHzzyAd"
      },
      "source": [
        "#標準得点を求める\n",
        "scale(dat$score)"
      ],
      "execution_count": null,
      "outputs": []
    },
    {
      "cell_type": "code",
      "metadata": {
        "id": "JhnU1MJW0WHO"
      },
      "source": [
        "#データの偏差値を求める\n",
        "((dat$score - mean(dat$score) )/ sd(dat$score)) * 10 + 50"
      ],
      "execution_count": null,
      "outputs": []
    },
    {
      "cell_type": "markdown",
      "metadata": {
        "id": "e2UHJq7o01gt"
      },
      "source": [
        "##２－８　歪度・尖度"
      ]
    },
    {
      "cell_type": "markdown",
      "metadata": {
        "id": "leu5AvXG1BlL"
      },
      "source": [
        "**ポイント**\n",
        "\n",
        "・**歪度**：分布の非対称の度合い　**skew関数**\n",
        "\n",
        "＝＞0より大きい：左側に偏った分布 / 0より小さい：右側に偏った分布\n",
        "\n",
        "・**尖度**：分布の尖り具合　**kurtosi関数**\n",
        "\n",
        "＝＞0より大きい：尖りが急で、裾の長い分布 / 0より小さい：緩やかで、裾の短い分布"
      ]
    },
    {
      "cell_type": "code",
      "metadata": {
        "id": "vQa9dqte3Bu0"
      },
      "source": [
        "#　歪度 psychパッケージの利用\n",
        "skew(dat$score)\n",
        "\n",
        "#　尖度\n",
        "kurtosi(dat$score)"
      ],
      "execution_count": null,
      "outputs": []
    }
  ]
}